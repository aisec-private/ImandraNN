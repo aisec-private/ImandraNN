{
  "nbformat": 4,
  "nbformat_minor": 0,
  "metadata": {
    "colab": {
      "name": "smiley_convnet_9x9_quantised.ipynb",
      "provenance": [],
      "collapsed_sections": [
        "9C3qUzLGkIn6",
        "pvpOUzOrVTY1"
      ]
    },
    "kernelspec": {
      "display_name": "Python 3",
      "language": "python",
      "name": "python3"
    },
    "language_info": {
      "codemirror_mode": {
        "name": "ipython",
        "version": 3
      },
      "file_extension": ".py",
      "mimetype": "text/x-python",
      "name": "python",
      "nbconvert_exporter": "python",
      "pygments_lexer": "ipython3",
      "version": "3.7.0"
    }
  },
  "cells": [
    {
      "cell_type": "markdown",
      "metadata": {
        "id": "aHMb8-yNkvr-"
      },
      "source": [
        "# Simple Custom convnet\n"
      ]
    },
    {
      "cell_type": "markdown",
      "metadata": {
        "id": "AFuxeTySkvsU"
      },
      "source": [
        "## Setup"
      ]
    },
    {
      "cell_type": "code",
      "metadata": {
        "id": "OqC_U_e4kvsX"
      },
      "source": [
        "import numpy as np\n",
        "import sys\n",
        "from tensorflow import keras\n",
        "from tensorflow.keras import layers\n",
        "import sklearn.model_selection\n",
        "import matplotlib.pyplot as plt"
      ],
      "execution_count": 1,
      "outputs": []
    },
    {
      "cell_type": "markdown",
      "metadata": {
        "id": "7NKe9kCUV7G_"
      },
      "source": [
        "## Load model\n"
      ]
    },
    {
      "cell_type": "code",
      "metadata": {
        "colab": {
          "base_uri": "https://localhost:8080/"
        },
        "id": "O6k5BoHuWRsg",
        "outputId": "f7832b47-ffbe-4738-8c59-ae9ed9a3a2ea"
      },
      "source": [
        "# mount google drive\n",
        "\n",
        "from google.colab import drive\n",
        "drive.mount('/content/drive')"
      ],
      "execution_count": 2,
      "outputs": [
        {
          "output_type": "stream",
          "text": [
            "Mounted at /content/drive\n"
          ],
          "name": "stdout"
        }
      ]
    },
    {
      "cell_type": "code",
      "metadata": {
        "id": "lT55z8LnWIQZ",
        "colab": {
          "base_uri": "https://localhost:8080/"
        },
        "outputId": "c22a06b6-01e9-4bd7-a156-6237dec3c59b"
      },
      "source": [
        "# load model from path\n",
        "file_name = 'smiley_cnn_acc_1.0'\n",
        "path = f'/content/drive/MyDrive/Workspace/dissertation/{file_name}.h5'\n",
        "model = keras.models.load_model(path)\n",
        "\n",
        "model.summary()"
      ],
      "execution_count": 3,
      "outputs": [
        {
          "output_type": "stream",
          "text": [
            "Model: \"sequential_1\"\n",
            "_________________________________________________________________\n",
            "Layer (type)                 Output Shape              Param #   \n",
            "=================================================================\n",
            "conv2d_1 (Conv2D)            (None, 8, 8, 2)           8         \n",
            "_________________________________________________________________\n",
            "max_pooling2d_1 (MaxPooling2 (None, 4, 4, 2)           0         \n",
            "_________________________________________________________________\n",
            "flatten_1 (Flatten)          (None, 32)                0         \n",
            "_________________________________________________________________\n",
            "dropout_1 (Dropout)          (None, 32)                0         \n",
            "_________________________________________________________________\n",
            "dense_1 (Dense)              (None, 2)                 66        \n",
            "=================================================================\n",
            "Total params: 74\n",
            "Trainable params: 74\n",
            "Non-trainable params: 0\n",
            "_________________________________________________________________\n"
          ],
          "name": "stdout"
        }
      ]
    },
    {
      "cell_type": "markdown",
      "metadata": {
        "id": "9C3qUzLGkIn6"
      },
      "source": [
        "## Show filters\n"
      ]
    },
    {
      "cell_type": "code",
      "metadata": {
        "colab": {
          "base_uri": "https://localhost:8080/",
          "height": 670
        },
        "id": "ITUIqoxUkLoL",
        "outputId": "8d5ae95f-db70-43a5-be13-a4162ba9ad58"
      },
      "source": [
        "filters = model.layers[0].get_weights()[0]\n",
        "print (filters.shape)\n",
        "filters.shape = (2, 2, 2)\n",
        "print(filters)\n",
        "print(\"================\")\n",
        "\n",
        "for i in range (filters.shape[-1]):\n",
        "  filter = filters[:,:,i]\n",
        "  print(filter)\n",
        "  plt.imshow(filter, cmap='gray')\n",
        "  plt.axis('off')\n",
        "  plt.show()"
      ],
      "execution_count": 40,
      "outputs": [
        {
          "output_type": "stream",
          "text": [
            "(2, 2, 1, 2)\n",
            "[[[-0.9578335   0.70368326]\n",
            "  [-0.954979   -0.7249028 ]]\n",
            "\n",
            " [[-0.47843927 -0.70245713]\n",
            "  [-0.47832325 -0.9536416 ]]]\n",
            "================\n",
            "[[-0.9578335  -0.954979  ]\n",
            " [-0.47843927 -0.47832325]]\n"
          ],
          "name": "stdout"
        },
        {
          "output_type": "display_data",
          "data": {
            "image/png": "[encoded data removed]",
            "text/plain": [
              "<Figure size 432x288 with 1 Axes>"
            ]
          },
          "metadata": {
            "tags": [],
            "needs_background": "light"
          }
        },
        {
          "output_type": "stream",
          "text": [
            "[[ 0.70368326 -0.7249028 ]\n",
            " [-0.70245713 -0.9536416 ]]\n"
          ],
          "name": "stdout"
        },
        {
          "output_type": "display_data",
          "data": {
            "image/png": "[encoded data removed]",
            "text/plain": [
              "<Figure size 432x288 with 1 Axes>"
            ]
          },
          "metadata": {
            "tags": [],
            "needs_background": "light"
          }
        }
      ]
    },
    {
      "cell_type": "markdown",
      "metadata": {
        "id": "KRaMAy7YX7W_"
      },
      "source": [
        "## Convert convolutional layer to IML (quantised)"
      ]
    },
    {
      "cell_type": "code",
      "metadata": {
        "id": "gTxqHZxBWrsa",
        "colab": {
          "base_uri": "https://localhost:8080/"
        },
        "outputId": "da7f9129-36f8-4af6-cfdb-ecaef03ac98b"
      },
      "source": [
        "weights = model.layers[0].get_weights()[0]\n",
        "print(f'layer 0 weights shape: {weights.shape}')"
      ],
      "execution_count": 4,
      "outputs": [
        {
          "output_type": "stream",
          "text": [
            "layer 0 weights shape: (2, 2, 1, 2)\n"
          ],
          "name": "stdout"
        }
      ]
    },
    {
      "cell_type": "code",
      "metadata": {
        "colab": {
          "base_uri": "https://localhost:8080/"
        },
        "id": "sVyAbX2FLEU5",
        "outputId": "bf86cfa5-ba59-4aca-c057-8f423a8a9146"
      },
      "source": [
        "import math\n",
        "\n",
        "def round_half_up(n, decimals=0):\n",
        "    multiplier = 10 ** decimals\n",
        "    return int(math.floor(n*multiplier + 0.5) / multiplier)\n",
        "\n",
        "def print_rounded_weights(weights, layer_id):\n",
        "  print(f'layer{layer_id} = [')\n",
        "  for l in range (weights.shape[3]):\n",
        "    print('\\t[')\n",
        "    for k in range (weights.shape[2]):\n",
        "      print('\\t\\t[ ', end='')\n",
        "      for i in range (weights.shape[0]):\n",
        "        print('\\t\\t\\t[ ', end='')\n",
        "        for j in range (weights.shape[1]):\n",
        "          end = '' if j == weights.shape[1] - 1 else '; '\n",
        "          print('{0:d}'.format(round_half_up(weights[i][j][k][l])), end=end)\n",
        "        print('];', end='')\n",
        "      print('\\t\\t];')\n",
        "    print('\\t];')\n",
        "  print(']')\n",
        "\n",
        "print_rounded_weights(weights, 0)"
      ],
      "execution_count": 6,
      "outputs": [
        {
          "output_type": "stream",
          "text": [
            "layer0 = [\n",
            "\t[\n",
            "\t\t[ \t\t\t[ 0; 0];\t\t\t[ -1; -1];\t\t];\n",
            "\t];\n",
            "\t[\n",
            "\t\t[ \t\t\t[ 0; 0];\t\t\t[ 0; 1];\t\t];\n",
            "\t];\n",
            "]\n"
          ],
          "name": "stdout"
        }
      ]
    },
    {
      "cell_type": "markdown",
      "metadata": {
        "id": "Sx3iIlkDwqhr"
      },
      "source": [
        "## Convert FC layer to IML"
      ]
    },
    {
      "cell_type": "code",
      "metadata": {
        "colab": {
          "base_uri": "https://localhost:8080/"
        },
        "id": "wa_Ah2TIzxMx",
        "outputId": "54c71137-2b76-4d27-9f99-90e2286453a0"
      },
      "source": [
        "weights = model.layers[4].get_weights()[0]\n",
        "biases = model.layers[4].get_weights()[1]\n",
        "\n",
        "def print_rounded_weights_fc(weights, biases, layer_id):\n",
        "  print(f'layer{layer_id} = [')\n",
        "  for i in range (weights.shape[1]):\n",
        "    print('\\t[{0:d}; '.format(round_half_up(biases[i])), end='')\n",
        "    for j in range (weights.shape[0]):\n",
        "      print('{0:d}; '.format(round_half_up(weights[j][i])), end='')\n",
        "    print('];')\n",
        "  print(']')\n",
        "\n",
        "print_rounded_weights_fc(weights, biases, 4)"
      ],
      "execution_count": 8,
      "outputs": [
        {
          "output_type": "stream",
          "text": [
            "layer4 = [\n",
            "\t[0; 0; 0; 0; 0; 0; 0; 0; 0; 0; 0; 0; 0; 0; 0; 0; 0; 0; 0; 0; 0; 0; 0; 0; 0; 0; 0; 0; 0; 0; 0; 0; 0; ];\n",
            "\t[0; 0; 0; 0; 0; 0; 0; 0; 0; 0; 0; 0; 0; 0; 1; 0; 0; 0; 0; 0; 0; 0; 0; 0; 0; 0; 0; 0; -1; 0; -1; 1; 0; ];\n",
            "]\n"
          ],
          "name": "stdout"
        }
      ]
    },
    {
      "cell_type": "markdown",
      "metadata": {
        "id": "Avp_XJCY9sqC"
      },
      "source": [
        "## Print weights to file"
      ]
    },
    {
      "cell_type": "code",
      "metadata": {
        "id": "WsUcKhlB9wOB"
      },
      "source": [
        "# set stdout to a file\n",
        "filename='weights_quantised.iml'\n",
        "stdout_fileno = sys.stdout\n",
        "sys.stdout = open(filename, 'w')\n",
        "\n",
        "print(\"module Weights = struct\")\n",
        "\n",
        "weights = model.layers[0].get_weights()[0]\n",
        "print_rounded_weights(weights, 0)\n",
        "\n",
        "weights = model.layers[4].get_weights()[0]\n",
        "biases = model.layers[4].get_weights()[1]\n",
        "print_rounded_weights_fc(weights, biases, 4)\n",
        "\n",
        "print(\"end\")\n",
        "\n",
        "# Close the file\n",
        "sys.stdout.close()\n",
        "# Restore sys.stdout to our old saved file handler\n",
        "sys.stdout = stdout_fileno"
      ],
      "execution_count": 9,
      "outputs": []
    },
    {
      "cell_type": "markdown",
      "metadata": {
        "id": "pvpOUzOrVTY1"
      },
      "source": [
        "### Evaluate quantised model"
      ]
    },
    {
      "cell_type": "code",
      "metadata": {
        "colab": {
          "base_uri": "https://localhost:8080/"
        },
        "id": "PEfIS9JcVSra",
        "outputId": "0b65d2e8-baa1-493b-897f-e8194de02609"
      },
      "source": [
        "import numpy as np\n",
        "from sklearn.model_selection import train_test_split\n",
        "\n",
        "from random import randint\n",
        "\n",
        "def blank(height=9, width=9):\n",
        "    return [[0. for x in range(width)] for y in range(height)]\n",
        "\n",
        "def bound(x, l=0, h=10):\n",
        "    if x < l:\n",
        "        return l\n",
        "    if x > h:\n",
        "        return h\n",
        "    return x\n",
        "\n",
        "def draw_feature(canvas, feature, origin=(0,0)):\n",
        "  (x0, y0) = origin\n",
        "  for (x, y) in feature:\n",
        "      canvas[x0 + x][y0 + y] = 1.\n",
        "\n",
        "def draw_face(eyes, mouth, noise):\n",
        "  canvas = blank()\n",
        "  #draw eyes\n",
        "  draw_feature(canvas, eyes)\n",
        "  draw_feature(canvas, mouth)\n",
        "  draw_feature(canvas, noise)\n",
        "  return canvas\n",
        "\n",
        "\n",
        "def print_face(face):\n",
        "    for line in face:\n",
        "        for x in line:\n",
        "            print ('X' if x == 1.0 else '.', end='')\n",
        "        print('')\n",
        "    print('')\n",
        "\n",
        "\n",
        "def make_data(noise=False):\n",
        "  x_train = np.ndarray(shape=(0,))\n",
        "  y_train = np.ndarray(shape=(0,))\n",
        "\n",
        "  eyes_variants = [\n",
        "      [(2, 2), (2, 6)],\n",
        "      [(2, 1), (2, 7)],\n",
        "      [(2, 1), (2, 5)],\n",
        "      [(2, 2), (2, 7)]\n",
        "  ]\n",
        "\n",
        "  noise_variants = [\n",
        "      [],\n",
        "      [(0, 0)],\n",
        "      [(0, 8)]\n",
        "  ]\n",
        "\n",
        "  happy_mouths = [\n",
        "      [(4, 1), (5, 2), (6, 3), (6, 4),(6, 5),(5, 6),(4, 7)],\n",
        "      [(5, 1), (6, 2), (7, 3), (7, 4),(7, 5),(6, 6),(5, 7)],\n",
        "\n",
        "      [(4, 1), (5, 2), (5, 3), (5, 4),(5, 5),(5, 6),(4, 7)],\n",
        "      [(5, 1), (6, 2), (6, 3), (6, 4),(6, 5),(6, 6),(5, 7)],\n",
        "\n",
        "      [(5, 2), (6, 3), (6, 4),(6, 5),(5, 6)],\n",
        "      [(6, 2), (7, 3), (7, 4),(7, 5),(6, 6)],\n",
        "  ]\n",
        "\n",
        "  sad_mouths = [\n",
        "      [(5, 1), (4, 2), (4, 3), (4, 4),(4, 5),(4, 6),(5, 7)],\n",
        "      [(6, 1), (5, 2), (5, 3), (5, 4),(5, 5),(5, 6),(6, 7)],\n",
        "\n",
        "      [(6, 1), (5, 2), (4, 3), (4, 4),(4, 5),(5, 6),(6, 7)],\n",
        "      [(7, 1), (6, 2), (5, 3), (5, 4),(5, 5),(6, 6),(7, 7)],\n",
        "\n",
        "      [(5, 2), (4, 3), (4, 4),(4, 5),(5, 6)],\n",
        "      [(6, 2), (5, 3), (5, 4),(5, 5),(6, 6)],\n",
        "  ]\n",
        "  \n",
        "  for noise in noise_variants:\n",
        "    for mouth in happy_mouths:\n",
        "      for eyes in eyes_variants:\n",
        "        #   if noise:\n",
        "        #     noise = noise_variants[randint(0, len(noise_variants - 1))]\n",
        "        #   else: \n",
        "        #     noise = []\n",
        "        face = draw_face(eyes, mouth, noise)\n",
        "        face = np.array(face)\n",
        "        face.shape = (1, 9, 9, 1)\n",
        "        x_train = np.concatenate((x_train, face), axis=0) if x_train.size else face\n",
        "        y_train = np.append(y_train, 0)\n",
        "    for mouth in sad_mouths:\n",
        "      for eyes in eyes_variants:\n",
        "        #   if noise:\n",
        "        #     noise = noise_variants[randint(0, len(noise_variants - 1))]\n",
        "        #   else: \n",
        "        #     noise = []\n",
        "        face = draw_face(eyes, mouth, noise)\n",
        "        face = np.array(face)\n",
        "        face.shape = (1, 9, 9, 1)\n",
        "        x_train = np.concatenate((x_train, face), axis=0) if x_train.size else face\n",
        "        y_train = np.append(y_train, 1)\n",
        "\n",
        "  x_train, x_test, y_train, y_test = train_test_split(x_train, y_train, random_state=0)\n",
        "\n",
        "  return (x_train, y_train), (x_test, y_test)\n",
        "\n",
        "# Model / data parameters\n",
        "num_classes = 2\n",
        "input_shape = (9, 9, 1)\n",
        "\n",
        "# the data, split between train and test sets\n",
        "(x_train, y_train), (x_test, y_test) = make_data()\n",
        "\n",
        "# Scale images to the [0, 1] range\n",
        "x_train = x_train.astype(\"float32\")\n",
        "x_test = x_test.astype(\"float32\")\n",
        "print(\"x_train shape:\", x_train.shape)\n",
        "print(x_train.shape[0], \"train samples\")\n",
        "print(x_test.shape[0], \"test samples\")\n",
        "\n",
        "\n",
        "# convert class vectors to binary class matrices\n",
        "y_train = keras.utils.to_categorical(y_train, num_classes)\n",
        "y_test = keras.utils.to_categorical(y_test, num_classes)"
      ],
      "execution_count": 43,
      "outputs": [
        {
          "output_type": "stream",
          "text": [
            "x_train shape: (108, 9, 9, 1)\n",
            "108 train samples\n",
            "36 test samples\n"
          ],
          "name": "stdout"
        }
      ]
    },
    {
      "cell_type": "code",
      "metadata": {
        "colab": {
          "base_uri": "https://localhost:8080/"
        },
        "id": "T8zCCNjTVfvG",
        "outputId": "0f588a76-c589-4cb8-8832-6062ccf759bb"
      },
      "source": [
        "\n",
        "weights = model.layers[0].get_weights()[0]\n",
        "rounded_weights = np.around(weights)\n",
        "model.layers[0].set_weights([rounded_weights])\n",
        "\n",
        "weights = model.layers[4].get_weights()[0]\n",
        "biases = model.layers[4].get_weights()[1]\n",
        "rounded_weights = np.around(weights)\n",
        "print(rounded_weights.shape)\n",
        "rounded_biases = np.around(biases)\n",
        "model.layers[4].set_weights([rounded_weights, rounded_biases])"
      ],
      "execution_count": 47,
      "outputs": [
        {
          "output_type": "stream",
          "text": [
            "(32, 2)\n"
          ],
          "name": "stdout"
        }
      ]
    },
    {
      "cell_type": "code",
      "metadata": {
        "colab": {
          "base_uri": "https://localhost:8080/"
        },
        "id": "lBb0e8GIWml2",
        "outputId": "98b8cbc7-9f93-4bf1-cc3f-4d5ee5af11a3"
      },
      "source": [
        "\n",
        "score = model.evaluate(x_test, y_test, verbose=0)\n",
        "print(\"Test loss:\", score[0])\n",
        "print(\"Test accuracy:\", score[1])"
      ],
      "execution_count": 48,
      "outputs": [
        {
          "output_type": "stream",
          "text": [
            "Test loss: 0.2915412187576294\n",
            "Test accuracy: 1.0\n"
          ],
          "name": "stdout"
        }
      ]
    }
  ]
}
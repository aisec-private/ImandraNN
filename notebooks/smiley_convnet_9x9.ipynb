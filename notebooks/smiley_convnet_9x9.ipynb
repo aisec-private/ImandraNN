{
  "nbformat": 4,
  "nbformat_minor": 0,
  "metadata": {
    "colab": {
      "name": "smiley_convnet_9x9.ipynb",
      "provenance": [],
      "collapsed_sections": [
        "qPqzsA5Gkvsa",
        "rExe3QAHkvsd",
        "9C3qUzLGkIn6",
        "KRaMAy7YX7W_"
      ]
    },
    "kernelspec": {
      "display_name": "Python 3",
      "language": "python",
      "name": "python3"
    },
    "language_info": {
      "codemirror_mode": {
        "name": "ipython",
        "version": 3
      },
      "file_extension": ".py",
      "mimetype": "text/x-python",
      "name": "python",
      "nbconvert_exporter": "python",
      "pygments_lexer": "ipython3",
      "version": "3.7.0"
    }
  },
  "cells": [
    {
      "cell_type": "markdown",
      "metadata": {
        "id": "aHMb8-yNkvr-"
      },
      "source": [
        "# Simple Custom convnet\n"
      ]
    },
    {
      "cell_type": "markdown",
      "metadata": {
        "id": "AFuxeTySkvsU"
      },
      "source": [
        "## Setup"
      ]
    },
    {
      "cell_type": "code",
      "metadata": {
        "id": "OqC_U_e4kvsX"
      },
      "source": [
        "import numpy as np\n",
        "import sys\n",
        "from tensorflow import keras\n",
        "from tensorflow.keras import layers\n",
        "import sklearn.model_selection\n",
        "import matplotlib.pyplot as plt"
      ],
      "execution_count": 17,
      "outputs": []
    },
    {
      "cell_type": "markdown",
      "metadata": {
        "id": "qPqzsA5Gkvsa"
      },
      "source": [
        "## Prepare the data"
      ]
    },
    {
      "cell_type": "code",
      "metadata": {
        "id": "RIUXdbD6gh4w"
      },
      "source": [
        "import numpy as np\n",
        "from sklearn.model_selection import train_test_split\n",
        "\n",
        "from random import randint\n",
        "\n",
        "def blank(height=9, width=9):\n",
        "    return [[0. for x in range(width)] for y in range(height)]\n",
        "\n",
        "def bound(x, l=0, h=10):\n",
        "    if x < l:\n",
        "        return l\n",
        "    if x > h:\n",
        "        return h\n",
        "    return x\n",
        "\n",
        "def draw_feature(canvas, feature, origin=(0,0)):\n",
        "  (x0, y0) = origin\n",
        "  for (x, y) in feature:\n",
        "      canvas[x0 + x][y0 + y] = 1.\n",
        "\n",
        "def draw_face(eyes, mouth, noise):\n",
        "  canvas = blank()\n",
        "  #draw eyes\n",
        "  draw_feature(canvas, eyes)\n",
        "  draw_feature(canvas, mouth)\n",
        "  draw_feature(canvas, noise)\n",
        "  return canvas\n",
        "\n",
        "\n",
        "def print_face(face):\n",
        "    for line in face:\n",
        "        for x in line:\n",
        "            print ('X' if x == 1.0 else '.', end='')\n",
        "        print('')\n",
        "    print('')\n",
        "\n",
        "\n",
        "def make_data(noise=False):\n",
        "  x_train = np.ndarray(shape=(0,))\n",
        "  y_train = np.ndarray(shape=(0,))\n",
        "\n",
        "  eyes_variants = [\n",
        "      [(2, 2), (2, 6)],\n",
        "      [(2, 1), (2, 7)],\n",
        "      [(2, 1), (2, 5)],\n",
        "      [(2, 2), (2, 7)]\n",
        "  ]\n",
        "\n",
        "  noise_variants = [\n",
        "      [],\n",
        "      [(0, 0)],\n",
        "      [(0, 8)]\n",
        "  ]\n",
        "\n",
        "  happy_mouths = [\n",
        "      [(4, 1), (5, 2), (6, 3), (6, 4),(6, 5),(5, 6),(4, 7)],\n",
        "      [(5, 1), (6, 2), (7, 3), (7, 4),(7, 5),(6, 6),(5, 7)],\n",
        "\n",
        "      [(4, 1), (5, 2), (5, 3), (5, 4),(5, 5),(5, 6),(4, 7)],\n",
        "      [(5, 1), (6, 2), (6, 3), (6, 4),(6, 5),(6, 6),(5, 7)],\n",
        "\n",
        "      [(5, 2), (6, 3), (6, 4),(6, 5),(5, 6)],\n",
        "      [(6, 2), (7, 3), (7, 4),(7, 5),(6, 6)],\n",
        "  ]\n",
        "\n",
        "  sad_mouths = [\n",
        "      [(5, 1), (4, 2), (4, 3), (4, 4),(4, 5),(4, 6),(5, 7)],\n",
        "      [(6, 1), (5, 2), (5, 3), (5, 4),(5, 5),(5, 6),(6, 7)],\n",
        "\n",
        "      [(6, 1), (5, 2), (4, 3), (4, 4),(4, 5),(5, 6),(6, 7)],\n",
        "      [(7, 1), (6, 2), (5, 3), (5, 4),(5, 5),(6, 6),(7, 7)],\n",
        "\n",
        "      [(5, 2), (4, 3), (4, 4),(4, 5),(5, 6)],\n",
        "      [(6, 2), (5, 3), (5, 4),(5, 5),(6, 6)],\n",
        "  ]\n",
        "  \n",
        "  for noise in noise_variants:\n",
        "    for mouth in happy_mouths:\n",
        "      for eyes in eyes_variants:\n",
        "        #   if noise:\n",
        "        #     noise = noise_variants[randint(0, len(noise_variants - 1))]\n",
        "        #   else: \n",
        "        #     noise = []\n",
        "        face = draw_face(eyes, mouth, noise)\n",
        "        face = np.array(face)\n",
        "        face.shape = (1, 9, 9, 1)\n",
        "        x_train = np.concatenate((x_train, face), axis=0) if x_train.size else face\n",
        "        y_train = np.append(y_train, 0)\n",
        "    for mouth in sad_mouths:\n",
        "      for eyes in eyes_variants:\n",
        "        #   if noise:\n",
        "        #     noise = noise_variants[randint(0, len(noise_variants - 1))]\n",
        "        #   else: \n",
        "        #     noise = []\n",
        "        face = draw_face(eyes, mouth, noise)\n",
        "        face = np.array(face)\n",
        "        face.shape = (1, 9, 9, 1)\n",
        "        x_train = np.concatenate((x_train, face), axis=0) if x_train.size else face\n",
        "        y_train = np.append(y_train, 1)\n",
        "\n",
        "  x_train, x_test, y_train, y_test = train_test_split(x_train, y_train, random_state=0)\n",
        "\n",
        "  return (x_train, y_train), (x_test, y_test)"
      ],
      "execution_count": null,
      "outputs": []
    },
    {
      "cell_type": "code",
      "metadata": {
        "colab": {
          "base_uri": "https://localhost:8080/"
        },
        "id": "HWTxavZWiKP4",
        "outputId": "18523b97-c554-44dd-b164-9163158bc727"
      },
      "source": [
        "# Model / data parameters\n",
        "num_classes = 2\n",
        "input_shape = (9, 9, 1)\n",
        "\n",
        "# the data, split between train and test sets\n",
        "(x_train, y_train), (x_test, y_test) = make_data()\n",
        "\n",
        "# Scale images to the [0, 1] range\n",
        "x_train = x_train.astype(\"float32\")\n",
        "x_test = x_test.astype(\"float32\")\n",
        "print(\"x_train shape:\", x_train.shape)\n",
        "print(x_train.shape[0], \"train samples\")\n",
        "print(x_test.shape[0], \"test samples\")\n",
        "\n",
        "\n",
        "# convert class vectors to binary class matrices\n",
        "y_train = keras.utils.to_categorical(y_train, num_classes)\n",
        "y_test = keras.utils.to_categorical(y_test, num_classes)"
      ],
      "execution_count": null,
      "outputs": [
        {
          "output_type": "stream",
          "text": [
            "x_train shape: (108, 9, 9, 1)\n",
            "108 train samples\n",
            "36 test samples\n"
          ],
          "name": "stdout"
        }
      ]
    },
    {
      "cell_type": "markdown",
      "metadata": {
        "id": "rExe3QAHkvsd"
      },
      "source": [
        "## Build the model"
      ]
    },
    {
      "cell_type": "code",
      "metadata": {
        "colab": {
          "base_uri": "https://localhost:8080/"
        },
        "id": "3JWDpw6lkvsg",
        "outputId": "94a0d528-5803-4151-dc44-2e8ca01cf7b5"
      },
      "source": [
        "model = keras.Sequential(\n",
        "    [\n",
        "        keras.Input(shape=input_shape),\n",
        "        layers.Conv2D(2, kernel_size=(2, 2), use_bias=False),\n",
        "        layers.MaxPooling2D(pool_size=(2, 2)),\n",
        "        layers.Flatten(),\n",
        "        layers.Dropout(0.5),\n",
        "        layers.Dense(num_classes, activation=\"softmax\"),\n",
        "    ]\n",
        ")\n",
        "\n",
        "model.summary()"
      ],
      "execution_count": null,
      "outputs": [
        {
          "output_type": "stream",
          "text": [
            "WARNING:tensorflow:Please add `keras.layers.InputLayer` instead of `keras.Input` to Sequential model. `keras.Input` is intended to be used by Functional model.\n",
            "Model: \"sequential\"\n",
            "_________________________________________________________________\n",
            "Layer (type)                 Output Shape              Param #   \n",
            "=================================================================\n",
            "conv2d (Conv2D)              (None, 8, 8, 2)           8         \n",
            "_________________________________________________________________\n",
            "max_pooling2d (MaxPooling2D) (None, 4, 4, 2)           0         \n",
            "_________________________________________________________________\n",
            "flatten (Flatten)            (None, 32)                0         \n",
            "_________________________________________________________________\n",
            "dropout (Dropout)            (None, 32)                0         \n",
            "_________________________________________________________________\n",
            "dense (Dense)                (None, 2)                 66        \n",
            "=================================================================\n",
            "Total params: 74\n",
            "Trainable params: 74\n",
            "Non-trainable params: 0\n",
            "_________________________________________________________________\n"
          ],
          "name": "stdout"
        }
      ]
    },
    {
      "cell_type": "markdown",
      "metadata": {
        "id": "xLn0OnMoVy3j"
      },
      "source": [
        ""
      ]
    },
    {
      "cell_type": "markdown",
      "metadata": {
        "id": "pmfVXeEmkvsh"
      },
      "source": [
        "## Train the model"
      ]
    },
    {
      "cell_type": "code",
      "metadata": {
        "colab": {
          "base_uri": "https://localhost:8080/"
        },
        "id": "gi8omyRYkvsn",
        "outputId": "1aaefb0f-aa88-49a0-94ef-be7214e33898"
      },
      "source": [
        "batch_size = 50 \n",
        "epochs = 100\n",
        "\n",
        "model.compile(loss=\"categorical_crossentropy\", optimizer=\"adam\", metrics=[\"accuracy\"])\n",
        "\n",
        "model.fit(x_train, y_train, batch_size=batch_size, epochs=epochs, validation_split=0.2)"
      ],
      "execution_count": null,
      "outputs": [
        {
          "output_type": "stream",
          "text": [
            "Epoch 1/100\n",
            "2/2 [==============================] - 1s 164ms/step - loss: 0.7249 - accuracy: 0.5000 - val_loss: 0.7081 - val_accuracy: 0.4545\n",
            "Epoch 2/100\n",
            "2/2 [==============================] - 0s 30ms/step - loss: 0.7592 - accuracy: 0.4186 - val_loss: 0.7030 - val_accuracy: 0.5000\n",
            "Epoch 3/100\n",
            "2/2 [==============================] - 0s 23ms/step - loss: 0.6907 - accuracy: 0.5581 - val_loss: 0.6983 - val_accuracy: 0.5000\n",
            "Epoch 4/100\n",
            "2/2 [==============================] - 0s 22ms/step - loss: 0.7149 - accuracy: 0.5465 - val_loss: 0.6941 - val_accuracy: 0.4545\n",
            "Epoch 5/100\n",
            "2/2 [==============================] - 0s 26ms/step - loss: 0.7525 - accuracy: 0.5000 - val_loss: 0.6899 - val_accuracy: 0.4545\n",
            "Epoch 6/100\n",
            "2/2 [==============================] - 0s 25ms/step - loss: 0.7324 - accuracy: 0.5581 - val_loss: 0.6858 - val_accuracy: 0.5000\n",
            "Epoch 7/100\n",
            "2/2 [==============================] - 0s 31ms/step - loss: 0.7500 - accuracy: 0.4302 - val_loss: 0.6819 - val_accuracy: 0.5000\n",
            "Epoch 8/100\n",
            "2/2 [==============================] - 0s 26ms/step - loss: 0.7160 - accuracy: 0.5000 - val_loss: 0.6783 - val_accuracy: 0.5000\n",
            "Epoch 9/100\n",
            "2/2 [==============================] - 0s 29ms/step - loss: 0.6965 - accuracy: 0.5000 - val_loss: 0.6746 - val_accuracy: 0.5000\n",
            "Epoch 10/100\n",
            "2/2 [==============================] - 0s 25ms/step - loss: 0.7620 - accuracy: 0.4302 - val_loss: 0.6708 - val_accuracy: 0.5455\n",
            "Epoch 11/100\n",
            "2/2 [==============================] - 0s 24ms/step - loss: 0.6674 - accuracy: 0.5116 - val_loss: 0.6671 - val_accuracy: 0.5455\n",
            "Epoch 12/100\n",
            "2/2 [==============================] - 0s 30ms/step - loss: 0.6864 - accuracy: 0.5349 - val_loss: 0.6634 - val_accuracy: 0.5909\n",
            "Epoch 13/100\n",
            "2/2 [==============================] - 0s 26ms/step - loss: 0.6611 - accuracy: 0.6047 - val_loss: 0.6598 - val_accuracy: 0.5909\n",
            "Epoch 14/100\n",
            "2/2 [==============================] - 0s 26ms/step - loss: 0.6827 - accuracy: 0.5581 - val_loss: 0.6563 - val_accuracy: 0.5909\n",
            "Epoch 15/100\n",
            "2/2 [==============================] - 0s 35ms/step - loss: 0.6771 - accuracy: 0.6047 - val_loss: 0.6529 - val_accuracy: 0.5909\n",
            "Epoch 16/100\n",
            "2/2 [==============================] - 0s 29ms/step - loss: 0.6905 - accuracy: 0.5814 - val_loss: 0.6496 - val_accuracy: 0.5909\n",
            "Epoch 17/100\n",
            "2/2 [==============================] - 0s 32ms/step - loss: 0.6941 - accuracy: 0.5814 - val_loss: 0.6461 - val_accuracy: 0.5909\n",
            "Epoch 18/100\n",
            "2/2 [==============================] - 0s 36ms/step - loss: 0.7311 - accuracy: 0.4535 - val_loss: 0.6427 - val_accuracy: 0.7727\n",
            "Epoch 19/100\n",
            "2/2 [==============================] - 0s 25ms/step - loss: 0.6269 - accuracy: 0.6744 - val_loss: 0.6395 - val_accuracy: 0.7727\n",
            "Epoch 20/100\n",
            "2/2 [==============================] - 0s 25ms/step - loss: 0.7014 - accuracy: 0.5581 - val_loss: 0.6362 - val_accuracy: 0.7727\n",
            "Epoch 21/100\n",
            "2/2 [==============================] - 0s 30ms/step - loss: 0.6654 - accuracy: 0.6395 - val_loss: 0.6327 - val_accuracy: 0.7727\n",
            "Epoch 22/100\n",
            "2/2 [==============================] - 0s 32ms/step - loss: 0.6942 - accuracy: 0.4535 - val_loss: 0.6293 - val_accuracy: 0.7727\n",
            "Epoch 23/100\n",
            "2/2 [==============================] - 0s 247ms/step - loss: 0.6733 - accuracy: 0.5930 - val_loss: 0.6262 - val_accuracy: 0.7727\n",
            "Epoch 24/100\n",
            "2/2 [==============================] - 0s 21ms/step - loss: 0.6592 - accuracy: 0.5698 - val_loss: 0.6229 - val_accuracy: 0.7727\n",
            "Epoch 25/100\n",
            "2/2 [==============================] - 0s 23ms/step - loss: 0.6461 - accuracy: 0.5698 - val_loss: 0.6199 - val_accuracy: 0.7727\n",
            "Epoch 26/100\n",
            "2/2 [==============================] - 0s 23ms/step - loss: 0.6415 - accuracy: 0.6279 - val_loss: 0.6171 - val_accuracy: 0.7727\n",
            "Epoch 27/100\n",
            "2/2 [==============================] - 0s 27ms/step - loss: 0.6421 - accuracy: 0.6047 - val_loss: 0.6142 - val_accuracy: 0.7727\n",
            "Epoch 28/100\n",
            "2/2 [==============================] - 0s 24ms/step - loss: 0.6487 - accuracy: 0.6395 - val_loss: 0.6112 - val_accuracy: 0.8182\n",
            "Epoch 29/100\n",
            "2/2 [==============================] - 0s 24ms/step - loss: 0.6346 - accuracy: 0.6628 - val_loss: 0.6082 - val_accuracy: 0.8182\n",
            "Epoch 30/100\n",
            "2/2 [==============================] - 0s 26ms/step - loss: 0.6266 - accuracy: 0.6395 - val_loss: 0.6052 - val_accuracy: 0.8182\n",
            "Epoch 31/100\n",
            "2/2 [==============================] - 0s 26ms/step - loss: 0.6383 - accuracy: 0.6279 - val_loss: 0.6020 - val_accuracy: 0.8636\n",
            "Epoch 32/100\n",
            "2/2 [==============================] - 0s 26ms/step - loss: 0.6897 - accuracy: 0.5465 - val_loss: 0.5989 - val_accuracy: 0.8636\n",
            "Epoch 33/100\n",
            "2/2 [==============================] - 0s 24ms/step - loss: 0.6285 - accuracy: 0.6163 - val_loss: 0.5957 - val_accuracy: 0.8636\n",
            "Epoch 34/100\n",
            "2/2 [==============================] - 0s 25ms/step - loss: 0.5943 - accuracy: 0.6628 - val_loss: 0.5925 - val_accuracy: 0.8636\n",
            "Epoch 35/100\n",
            "2/2 [==============================] - 0s 27ms/step - loss: 0.5933 - accuracy: 0.6744 - val_loss: 0.5895 - val_accuracy: 0.8636\n",
            "Epoch 36/100\n",
            "2/2 [==============================] - 0s 26ms/step - loss: 0.5939 - accuracy: 0.7558 - val_loss: 0.5863 - val_accuracy: 0.8636\n",
            "Epoch 37/100\n",
            "2/2 [==============================] - 0s 24ms/step - loss: 0.5873 - accuracy: 0.6744 - val_loss: 0.5830 - val_accuracy: 0.8636\n",
            "Epoch 38/100\n",
            "2/2 [==============================] - 0s 27ms/step - loss: 0.6420 - accuracy: 0.6163 - val_loss: 0.5798 - val_accuracy: 0.8636\n",
            "Epoch 39/100\n",
            "2/2 [==============================] - 0s 32ms/step - loss: 0.6277 - accuracy: 0.6395 - val_loss: 0.5764 - val_accuracy: 0.9091\n",
            "Epoch 40/100\n",
            "2/2 [==============================] - 0s 30ms/step - loss: 0.6396 - accuracy: 0.6163 - val_loss: 0.5731 - val_accuracy: 0.9091\n",
            "Epoch 41/100\n",
            "2/2 [==============================] - 0s 22ms/step - loss: 0.6469 - accuracy: 0.6279 - val_loss: 0.5697 - val_accuracy: 0.9091\n",
            "Epoch 42/100\n",
            "2/2 [==============================] - 0s 26ms/step - loss: 0.6356 - accuracy: 0.6279 - val_loss: 0.5664 - val_accuracy: 0.9091\n",
            "Epoch 43/100\n",
            "2/2 [==============================] - 0s 25ms/step - loss: 0.6355 - accuracy: 0.6047 - val_loss: 0.5632 - val_accuracy: 0.9091\n",
            "Epoch 44/100\n",
            "2/2 [==============================] - 0s 25ms/step - loss: 0.6336 - accuracy: 0.6628 - val_loss: 0.5600 - val_accuracy: 0.9091\n",
            "Epoch 45/100\n",
            "2/2 [==============================] - 0s 25ms/step - loss: 0.6008 - accuracy: 0.7209 - val_loss: 0.5569 - val_accuracy: 0.9091\n",
            "Epoch 46/100\n",
            "2/2 [==============================] - 0s 30ms/step - loss: 0.5949 - accuracy: 0.7558 - val_loss: 0.5538 - val_accuracy: 0.9091\n",
            "Epoch 47/100\n",
            "2/2 [==============================] - 0s 28ms/step - loss: 0.5892 - accuracy: 0.7442 - val_loss: 0.5508 - val_accuracy: 0.9091\n",
            "Epoch 48/100\n",
            "2/2 [==============================] - 0s 26ms/step - loss: 0.6239 - accuracy: 0.6628 - val_loss: 0.5479 - val_accuracy: 0.9091\n",
            "Epoch 49/100\n",
            "2/2 [==============================] - 0s 30ms/step - loss: 0.6116 - accuracy: 0.6163 - val_loss: 0.5450 - val_accuracy: 0.9091\n",
            "Epoch 50/100\n",
            "2/2 [==============================] - 0s 37ms/step - loss: 0.5779 - accuracy: 0.7093 - val_loss: 0.5421 - val_accuracy: 0.9091\n",
            "Epoch 51/100\n",
            "2/2 [==============================] - 0s 36ms/step - loss: 0.5849 - accuracy: 0.6977 - val_loss: 0.5390 - val_accuracy: 0.9091\n",
            "Epoch 52/100\n",
            "2/2 [==============================] - 0s 26ms/step - loss: 0.6035 - accuracy: 0.6977 - val_loss: 0.5361 - val_accuracy: 0.9091\n",
            "Epoch 53/100\n",
            "2/2 [==============================] - 0s 27ms/step - loss: 0.5840 - accuracy: 0.7093 - val_loss: 0.5329 - val_accuracy: 0.9091\n",
            "Epoch 54/100\n",
            "2/2 [==============================] - 0s 24ms/step - loss: 0.5886 - accuracy: 0.6744 - val_loss: 0.5299 - val_accuracy: 0.9091\n",
            "Epoch 55/100\n",
            "2/2 [==============================] - 0s 26ms/step - loss: 0.5617 - accuracy: 0.7558 - val_loss: 0.5268 - val_accuracy: 0.9091\n",
            "Epoch 56/100\n",
            "2/2 [==============================] - 0s 25ms/step - loss: 0.5973 - accuracy: 0.7442 - val_loss: 0.5238 - val_accuracy: 0.9091\n",
            "Epoch 57/100\n",
            "2/2 [==============================] - 0s 22ms/step - loss: 0.5540 - accuracy: 0.7907 - val_loss: 0.5206 - val_accuracy: 0.9091\n",
            "Epoch 58/100\n",
            "2/2 [==============================] - 0s 24ms/step - loss: 0.5699 - accuracy: 0.7209 - val_loss: 0.5174 - val_accuracy: 0.9091\n",
            "Epoch 59/100\n",
            "2/2 [==============================] - 0s 26ms/step - loss: 0.5813 - accuracy: 0.6628 - val_loss: 0.5142 - val_accuracy: 0.9091\n",
            "Epoch 60/100\n",
            "2/2 [==============================] - 0s 25ms/step - loss: 0.5904 - accuracy: 0.7558 - val_loss: 0.5108 - val_accuracy: 0.9545\n",
            "Epoch 61/100\n",
            "2/2 [==============================] - 0s 24ms/step - loss: 0.5690 - accuracy: 0.7093 - val_loss: 0.5074 - val_accuracy: 0.9545\n",
            "Epoch 62/100\n",
            "2/2 [==============================] - 0s 26ms/step - loss: 0.5621 - accuracy: 0.6744 - val_loss: 0.5042 - val_accuracy: 0.9545\n",
            "Epoch 63/100\n",
            "2/2 [==============================] - 0s 37ms/step - loss: 0.5812 - accuracy: 0.6628 - val_loss: 0.5010 - val_accuracy: 0.9545\n",
            "Epoch 64/100\n",
            "2/2 [==============================] - 0s 29ms/step - loss: 0.6131 - accuracy: 0.6628 - val_loss: 0.4979 - val_accuracy: 0.9545\n",
            "Epoch 65/100\n",
            "2/2 [==============================] - 0s 28ms/step - loss: 0.5803 - accuracy: 0.6860 - val_loss: 0.4946 - val_accuracy: 0.9545\n",
            "Epoch 66/100\n",
            "2/2 [==============================] - 0s 30ms/step - loss: 0.5416 - accuracy: 0.8372 - val_loss: 0.4914 - val_accuracy: 0.9545\n",
            "Epoch 67/100\n",
            "2/2 [==============================] - 0s 30ms/step - loss: 0.5138 - accuracy: 0.7907 - val_loss: 0.4882 - val_accuracy: 0.9545\n",
            "Epoch 68/100\n",
            "2/2 [==============================] - 0s 26ms/step - loss: 0.5510 - accuracy: 0.7326 - val_loss: 0.4849 - val_accuracy: 1.0000\n",
            "Epoch 69/100\n",
            "2/2 [==============================] - 0s 32ms/step - loss: 0.5525 - accuracy: 0.7093 - val_loss: 0.4817 - val_accuracy: 1.0000\n",
            "Epoch 70/100\n",
            "2/2 [==============================] - 0s 26ms/step - loss: 0.5267 - accuracy: 0.8023 - val_loss: 0.4785 - val_accuracy: 1.0000\n",
            "Epoch 71/100\n",
            "2/2 [==============================] - 0s 28ms/step - loss: 0.5732 - accuracy: 0.6860 - val_loss: 0.4753 - val_accuracy: 1.0000\n",
            "Epoch 72/100\n",
            "2/2 [==============================] - 0s 31ms/step - loss: 0.5274 - accuracy: 0.8372 - val_loss: 0.4719 - val_accuracy: 1.0000\n",
            "Epoch 73/100\n",
            "2/2 [==============================] - 0s 31ms/step - loss: 0.5180 - accuracy: 0.7791 - val_loss: 0.4685 - val_accuracy: 1.0000\n",
            "Epoch 74/100\n",
            "2/2 [==============================] - 0s 31ms/step - loss: 0.5546 - accuracy: 0.6977 - val_loss: 0.4650 - val_accuracy: 1.0000\n",
            "Epoch 75/100\n",
            "2/2 [==============================] - 0s 27ms/step - loss: 0.5077 - accuracy: 0.8256 - val_loss: 0.4614 - val_accuracy: 1.0000\n",
            "Epoch 76/100\n",
            "2/2 [==============================] - 0s 23ms/step - loss: 0.5914 - accuracy: 0.7442 - val_loss: 0.4579 - val_accuracy: 1.0000\n",
            "Epoch 77/100\n",
            "2/2 [==============================] - 0s 24ms/step - loss: 0.5208 - accuracy: 0.7442 - val_loss: 0.4546 - val_accuracy: 1.0000\n",
            "Epoch 78/100\n",
            "2/2 [==============================] - 0s 32ms/step - loss: 0.5249 - accuracy: 0.7907 - val_loss: 0.4514 - val_accuracy: 1.0000\n",
            "Epoch 79/100\n",
            "2/2 [==============================] - 0s 28ms/step - loss: 0.5018 - accuracy: 0.7791 - val_loss: 0.4482 - val_accuracy: 1.0000\n",
            "Epoch 80/100\n",
            "2/2 [==============================] - 0s 27ms/step - loss: 0.5312 - accuracy: 0.7558 - val_loss: 0.4449 - val_accuracy: 1.0000\n",
            "Epoch 81/100\n",
            "2/2 [==============================] - 0s 26ms/step - loss: 0.5351 - accuracy: 0.7674 - val_loss: 0.4417 - val_accuracy: 1.0000\n",
            "Epoch 82/100\n",
            "2/2 [==============================] - 0s 29ms/step - loss: 0.5071 - accuracy: 0.8023 - val_loss: 0.4384 - val_accuracy: 1.0000\n",
            "Epoch 83/100\n",
            "2/2 [==============================] - 0s 29ms/step - loss: 0.5626 - accuracy: 0.7093 - val_loss: 0.4351 - val_accuracy: 1.0000\n",
            "Epoch 84/100\n",
            "2/2 [==============================] - 0s 29ms/step - loss: 0.4644 - accuracy: 0.8605 - val_loss: 0.4317 - val_accuracy: 1.0000\n",
            "Epoch 85/100\n",
            "2/2 [==============================] - 0s 31ms/step - loss: 0.5048 - accuracy: 0.7791 - val_loss: 0.4284 - val_accuracy: 1.0000\n",
            "Epoch 86/100\n",
            "2/2 [==============================] - 0s 32ms/step - loss: 0.4892 - accuracy: 0.8140 - val_loss: 0.4250 - val_accuracy: 1.0000\n",
            "Epoch 87/100\n",
            "2/2 [==============================] - 0s 30ms/step - loss: 0.5230 - accuracy: 0.7558 - val_loss: 0.4215 - val_accuracy: 1.0000\n",
            "Epoch 88/100\n",
            "2/2 [==============================] - 0s 25ms/step - loss: 0.5003 - accuracy: 0.8140 - val_loss: 0.4179 - val_accuracy: 1.0000\n",
            "Epoch 89/100\n",
            "2/2 [==============================] - 0s 27ms/step - loss: 0.5098 - accuracy: 0.7907 - val_loss: 0.4144 - val_accuracy: 1.0000\n",
            "Epoch 90/100\n",
            "2/2 [==============================] - 0s 26ms/step - loss: 0.4725 - accuracy: 0.8372 - val_loss: 0.4109 - val_accuracy: 1.0000\n",
            "Epoch 91/100\n",
            "2/2 [==============================] - 0s 27ms/step - loss: 0.4812 - accuracy: 0.8023 - val_loss: 0.4074 - val_accuracy: 1.0000\n",
            "Epoch 92/100\n",
            "2/2 [==============================] - 0s 26ms/step - loss: 0.4683 - accuracy: 0.8140 - val_loss: 0.4039 - val_accuracy: 1.0000\n",
            "Epoch 93/100\n",
            "2/2 [==============================] - 0s 26ms/step - loss: 0.5287 - accuracy: 0.6860 - val_loss: 0.4003 - val_accuracy: 1.0000\n",
            "Epoch 94/100\n",
            "2/2 [==============================] - 0s 31ms/step - loss: 0.4920 - accuracy: 0.7907 - val_loss: 0.3967 - val_accuracy: 1.0000\n",
            "Epoch 95/100\n",
            "2/2 [==============================] - 0s 30ms/step - loss: 0.4664 - accuracy: 0.7907 - val_loss: 0.3930 - val_accuracy: 1.0000\n",
            "Epoch 96/100\n",
            "2/2 [==============================] - 0s 28ms/step - loss: 0.4631 - accuracy: 0.8140 - val_loss: 0.3893 - val_accuracy: 1.0000\n",
            "Epoch 97/100\n",
            "2/2 [==============================] - 0s 28ms/step - loss: 0.4299 - accuracy: 0.9070 - val_loss: 0.3855 - val_accuracy: 1.0000\n",
            "Epoch 98/100\n",
            "2/2 [==============================] - 0s 45ms/step - loss: 0.4649 - accuracy: 0.8605 - val_loss: 0.3818 - val_accuracy: 1.0000\n",
            "Epoch 99/100\n",
            "2/2 [==============================] - 0s 27ms/step - loss: 0.4684 - accuracy: 0.7907 - val_loss: 0.3781 - val_accuracy: 1.0000\n",
            "Epoch 100/100\n",
            "2/2 [==============================] - 0s 24ms/step - loss: 0.4549 - accuracy: 0.8140 - val_loss: 0.3744 - val_accuracy: 1.0000\n"
          ],
          "name": "stdout"
        },
        {
          "output_type": "execute_result",
          "data": {
            "text/plain": [
              "<tensorflow.python.keras.callbacks.History at 0x7f409b0f9390>"
            ]
          },
          "metadata": {
            "tags": []
          },
          "execution_count": 36
        }
      ]
    },
    {
      "cell_type": "markdown",
      "metadata": {
        "id": "7NKe9kCUV7G_"
      },
      "source": [
        "## Save/load\n"
      ]
    },
    {
      "cell_type": "code",
      "metadata": {
        "colab": {
          "base_uri": "https://localhost:8080/"
        },
        "id": "O6k5BoHuWRsg",
        "outputId": "2823e4e6-70bc-42a9-cbc5-928f99ea1c1c"
      },
      "source": [
        "# mount google drive\n",
        "\n",
        "from google.colab import drive\n",
        "drive.mount('/content/drive')"
      ],
      "execution_count": null,
      "outputs": [
        {
          "output_type": "stream",
          "text": [
            "Drive already mounted at /content/drive; to attempt to forcibly remount, call drive.mount(\"/content/drive\", force_remount=True).\n"
          ],
          "name": "stdout"
        }
      ]
    },
    {
      "cell_type": "code",
      "metadata": {
        "id": "80pYeDyRWv4f"
      },
      "source": [
        "# save model to path\n",
        "file_name = 'smiley_cnn_acc_1.0s'\n",
        "path = f'/content/drive/MyDrive/Workspace/dissertation/{file_name}.h5'\n",
        "model.save(path)"
      ],
      "execution_count": 18,
      "outputs": []
    },
    {
      "cell_type": "code",
      "metadata": {
        "id": "lT55z8LnWIQZ",
        "colab": {
          "base_uri": "https://localhost:8080/"
        },
        "outputId": "ce62ae58-c110-4175-c277-91685d17ea9f"
      },
      "source": [
        "# load model from path\n",
        "path = '/content/drive/MyDrive/Workspace/dissertation/smiley_cnn_acc_1.0.h5'\n",
        "model = keras.models.load_model(path)\n",
        "\n",
        "model.summary()"
      ],
      "execution_count": 19,
      "outputs": [
        {
          "output_type": "stream",
          "text": [
            "Model: \"sequential_1\"\n",
            "_________________________________________________________________\n",
            "Layer (type)                 Output Shape              Param #   \n",
            "=================================================================\n",
            "conv2d_1 (Conv2D)            (None, 8, 8, 2)           8         \n",
            "_________________________________________________________________\n",
            "max_pooling2d_1 (MaxPooling2 (None, 4, 4, 2)           0         \n",
            "_________________________________________________________________\n",
            "flatten_1 (Flatten)          (None, 32)                0         \n",
            "_________________________________________________________________\n",
            "dropout_1 (Dropout)          (None, 32)                0         \n",
            "_________________________________________________________________\n",
            "dense_1 (Dense)              (None, 2)                 66        \n",
            "=================================================================\n",
            "Total params: 74\n",
            "Trainable params: 74\n",
            "Non-trainable params: 0\n",
            "_________________________________________________________________\n"
          ],
          "name": "stdout"
        }
      ]
    },
    {
      "cell_type": "markdown",
      "metadata": {
        "id": "xvkQOrJ0kvsp"
      },
      "source": [
        "## Evaluate the trained model"
      ]
    },
    {
      "cell_type": "code",
      "metadata": {
        "colab": {
          "base_uri": "https://localhost:8080/"
        },
        "id": "2LdVbVtFkvsq",
        "outputId": "f20b8ba1-59e2-48b3-c9b3-af3b32299498"
      },
      "source": [
        "score = model.evaluate(x_test, y_test, verbose=0)\n",
        "print(\"Test loss:\", score[0])\n",
        "print(\"Test accuracy:\", score[1])"
      ],
      "execution_count": null,
      "outputs": [
        {
          "output_type": "stream",
          "text": [
            "Test loss: 0.4052182734012604\n",
            "Test accuracy: 1.0\n"
          ],
          "name": "stdout"
        }
      ]
    },
    {
      "cell_type": "code",
      "metadata": {
        "colab": {
          "base_uri": "https://localhost:8080/"
        },
        "id": "RJwuzI8_UJkF",
        "outputId": "e604329d-0c6e-4a84-c666-d0268bc37d18"
      },
      "source": [
        "score = model.evaluate(x_train, y_train, verbose=0)\n",
        "print(\"Train loss:\", score[0])\n",
        "print(\"Train accuracy:\", score[1])"
      ],
      "execution_count": null,
      "outputs": [
        {
          "output_type": "stream",
          "text": [
            "Train loss: 0.40898916125297546\n",
            "Train accuracy: 1.0\n"
          ],
          "name": "stdout"
        }
      ]
    },
    {
      "cell_type": "markdown",
      "metadata": {
        "id": "9C3qUzLGkIn6"
      },
      "source": [
        "## Visualise filters\n"
      ]
    },
    {
      "cell_type": "code",
      "metadata": {
        "colab": {
          "base_uri": "https://localhost:8080/",
          "height": 670
        },
        "id": "ITUIqoxUkLoL",
        "outputId": "210eae73-f1a9-46c7-ed25-f220eaa5dc5a"
      },
      "source": [
        "filters = model.layers[0].get_weights()[0]\n",
        "print (filters.shape)\n",
        "filters.shape = (2, 2, 2)\n",
        "\n",
        "\n",
        "print(filters)\n",
        "print(\"================\")\n",
        "for i in range (filters.shape[-1]):\n",
        "  filter = filters[:,:,i]\n",
        "  print(filter)\n",
        "  plt.imshow(filter, cmap='gray')\n",
        "  plt.axis('off')\n",
        "  plt.show()"
      ],
      "execution_count": null,
      "outputs": [
        {
          "output_type": "stream",
          "text": [
            "(2, 2, 1, 2)\n",
            "[[[-0.9578335   0.70368326]\n",
            "  [-0.954979   -0.7249028 ]]\n",
            "\n",
            " [[-0.47843927 -0.70245713]\n",
            "  [-0.47832325 -0.9536416 ]]]\n",
            "================\n",
            "[[-0.9578335  -0.954979  ]\n",
            " [-0.47843927 -0.47832325]]\n"
          ],
          "name": "stdout"
        },
        {
          "output_type": "display_data",
          "data": {
            "image/png": "[encoded data removed]",
            "text/plain": [
              "<Figure size 432x288 with 1 Axes>"
            ]
          },
          "metadata": {
            "tags": [],
            "needs_background": "light"
          }
        },
        {
          "output_type": "stream",
          "text": [
            "[[ 0.70368326 -0.7249028 ]\n",
            " [-0.70245713 -0.9536416 ]]\n"
          ],
          "name": "stdout"
        },
        {
          "output_type": "display_data",
          "data": {
            "image/png": "[encoded data removed]",
            "text/plain": [
              "<Figure size 432x288 with 1 Axes>"
            ]
          },
          "metadata": {
            "tags": [],
            "needs_background": "light"
          }
        }
      ]
    },
    {
      "cell_type": "markdown",
      "metadata": {
        "id": "KRaMAy7YX7W_"
      },
      "source": [
        "## Convert convolutional layer to IML"
      ]
    },
    {
      "cell_type": "code",
      "metadata": {
        "colab": {
          "base_uri": "https://localhost:8080/"
        },
        "id": "sRQ9vFrF9itt",
        "outputId": "0b1485a6-d6b0-4761-c457-390bd81fcdb6"
      },
      "source": [
        "weights = model.layers[0].get_weights()[0]\n",
        "\n",
        "print(f'weights shape: {weights.shape}')"
      ],
      "execution_count": null,
      "outputs": [
        {
          "output_type": "stream",
          "text": [
            "weights shape: (2, 2, 1, 2)\n"
          ],
          "name": "stdout"
        }
      ]
    },
    {
      "cell_type": "code",
      "metadata": {
        "colab": {
          "base_uri": "https://localhost:8080/"
        },
        "id": "sVyAbX2FLEU5",
        "outputId": "64922517-dbc8-4d4f-c03f-fd6b8d5490ba"
      },
      "source": [
        "# Print layer 0 weights with correct shape\n",
        "def print_weights(weights, layer_id):\n",
        "  print(f'layer{layer_id} = [')\n",
        "  for l in range (weights.shape[3]):\n",
        "    print('\\t[')\n",
        "    for k in range (weights.shape[2]):\n",
        "      print('\\t\\t[ ', end='')\n",
        "      for i in range (weights.shape[0]):\n",
        "        print('\\t\\t\\t[ ', end='')\n",
        "        for j in range (weights.shape[1]):\n",
        "          end = '' if j == weights.shape[1] - 1 else '; '\n",
        "          print('{0:.9f}'.format(float(weights[i][j][k][l])), end=end)\n",
        "        print('];', end='')\n",
        "      print('\\t\\t];')\n",
        "    print('\\t];')\n",
        "  print(']')\n",
        "weights = model.layers[0].get_weights()[0]\n",
        "\n",
        "print_weights(weights, 0)"
      ],
      "execution_count": null,
      "outputs": [
        {
          "output_type": "stream",
          "text": [
            "layer0 = [\n",
            "\t[\n",
            "\t\t[ \t\t\t[ -0.220549494; 0.499322921];\t\t\t[ -0.725067496; -0.631792903];\t\t];\n",
            "\t];\n",
            "\t[\n",
            "\t\t[ \t\t\t[ 0.079879493; -0.486945629];\t\t\t[ 0.114493877; 0.780436039];\t\t];\n",
            "\t];\n",
            "]\n"
          ],
          "name": "stdout"
        }
      ]
    },
    {
      "cell_type": "markdown",
      "metadata": {
        "id": "Sx3iIlkDwqhr"
      },
      "source": [
        "## Convert fully connected layer to IML"
      ]
    },
    {
      "cell_type": "code",
      "metadata": {
        "id": "cfH9dv97Wz5p",
        "colab": {
          "base_uri": "https://localhost:8080/"
        },
        "outputId": "bf5140cf-9f0c-400d-b22c-f229359a5c2b"
      },
      "source": [
        "weights = model.layers[4].get_weights()[0]\n",
        "biases = model.layers[4].get_weights()[1]\n",
        "\n",
        "print('layer 4')\n",
        "print(f'weights\\' shape: {weights.shape}')\n",
        "print(f'bias\\' shape: {biases.shape}')"
      ],
      "execution_count": null,
      "outputs": [
        {
          "output_type": "stream",
          "text": [
            "layer 4\n",
            "weights' shape: (32, 2)\n",
            "bias' shape: (2,)\n"
          ],
          "name": "stdout"
        }
      ]
    },
    {
      "cell_type": "code",
      "metadata": {
        "colab": {
          "base_uri": "https://localhost:8080/"
        },
        "id": "wa_Ah2TIzxMx",
        "outputId": "7cd75be7-77e3-4797-ce25-e6c3cad866ce"
      },
      "source": [
        "def print_weights_fc(weights, biases, layer_id):\n",
        "  print(f'layer{layer_id} = [')\n",
        "  for i in range (weights.shape[1]):\n",
        "    print('\\t[{0:.9f}; '.format(biases[i]), end='')\n",
        "    for j in range (weights.shape[0]):\n",
        "      print('{0:.9f}; '.format(weights[j][i]), end='')\n",
        "    print('];')\n",
        "  print(']')\n",
        "\n",
        "print_weights_fc(weights, biases, 4)"
      ],
      "execution_count": null,
      "outputs": [
        {
          "output_type": "stream",
          "text": [
            "layer4 = [\n",
            "\t[-0.014811062; -0.261233568; 0.194626674; -0.267310739; -0.344363838; -0.217332363; 0.076917365; -0.127037689; -0.091499850; 0.257569700; 0.397539675; 0.091607422; 0.130403966; 0.069774695; 0.066632085; -0.040345561; 0.050780743; 0.142887816; -0.218138114; -0.193468183; 0.149782091; -0.126352713; 0.136407644; 0.021943310; 0.261174023; -0.106263585; -0.061745420; -0.217538118; 0.143435508; -0.176034674; -0.114475705; -0.269783884; -0.156916827; ];\n",
            "\t[0.014811064; 0.048614830; -0.049730945; 0.192649931; -0.385294080; -0.307563066; 0.216462448; 0.054145120; 0.131620154; 0.238594502; 0.028046712; -0.174135342; 0.266546786; 0.272680819; 0.514012992; 0.071057849; -0.398049772; 0.162266120; -0.208040595; 0.359204680; -0.160863101; 0.493120670; 0.034628827; 0.369614273; 0.254220247; -0.094002180; -0.230750889; -0.306609750; -0.542776227; 0.088653542; -0.577997327; 0.576443434; 0.440752774; ];\n",
            "]\n"
          ],
          "name": "stdout"
        }
      ]
    },
    {
      "cell_type": "markdown",
      "metadata": {
        "id": "zUvSG1gmy_oT"
      },
      "source": [
        "### Print layers to file"
      ]
    },
    {
      "cell_type": "code",
      "metadata": {
        "id": "7NdU_H5EybHk"
      },
      "source": [
        "# set stdout to a file\n",
        "filename='weights.iml'\n",
        "stdout_fileno = sys.stdout\n",
        "sys.stdout = open(filename, 'w')\n",
        "\n",
        "print(\"module Weights = struct\")\n",
        "\n",
        "weights = model.layers[0].get_weights()[0]\n",
        "print_weights(weights, 0)\n",
        "\n",
        "weights = model.layers[4].get_weights()[0]\n",
        "biases = model.layers[4].get_weights()[1]\n",
        "print_weights_fc(weights, biases, 4)\n",
        "\n",
        "print(\"end\")\n",
        "\n",
        "# Close the file\n",
        "sys.stdout.close()\n",
        "# Restore sys.stdout to our old saved file handler\n",
        "sys.stdout = stdout_fileno"
      ],
      "execution_count": null,
      "outputs": []
    },
    {
      "cell_type": "markdown",
      "metadata": {
        "id": "KupkB68m_jFD"
      },
      "source": [
        "## Re-train network with mposed filters\n"
      ]
    },
    {
      "cell_type": "code",
      "metadata": {
        "id": "OflWTEhV_loQ"
      },
      "source": [
        "filters = np.array([[\n",
        "  [[1., 0.], [0., 1.]],\n",
        "  [[0., 1.], [1., 0.]]\n",
        "]])\n",
        "\n",
        "filters.shape = (1, 2, 2, 1, 2)\n",
        "\n",
        "model.layers[0].set_weights(filters)"
      ],
      "execution_count": 24,
      "outputs": []
    },
    {
      "cell_type": "code",
      "metadata": {
        "colab": {
          "base_uri": "https://localhost:8080/"
        },
        "id": "r84qRnldAPmF",
        "outputId": "17dc5dc2-adf2-4c0b-87fc-227f05ccd37f"
      },
      "source": [
        "batch_size = 50 \n",
        "epochs = 100\n",
        "\n",
        "model.fit(x_train, y_train, batch_size=batch_size, epochs=epochs, validation_split=0.2)"
      ],
      "execution_count": 25,
      "outputs": [
        {
          "output_type": "stream",
          "text": [
            "Epoch 1/100\n",
            "2/2 [==============================] - 0s 166ms/step - loss: 0.7047 - accuracy: 0.6628 - val_loss: 0.3708 - val_accuracy: 0.8182\n",
            "Epoch 2/100\n",
            "2/2 [==============================] - 0s 25ms/step - loss: 0.6812 - accuracy: 0.6628 - val_loss: 0.3539 - val_accuracy: 0.8182\n",
            "Epoch 3/100\n",
            "2/2 [==============================] - 0s 23ms/step - loss: 0.7789 - accuracy: 0.5930 - val_loss: 0.3382 - val_accuracy: 0.9091\n",
            "Epoch 4/100\n",
            "2/2 [==============================] - 0s 22ms/step - loss: 0.5820 - accuracy: 0.7093 - val_loss: 0.3239 - val_accuracy: 0.9091\n",
            "Epoch 5/100\n",
            "2/2 [==============================] - 0s 23ms/step - loss: 0.7206 - accuracy: 0.6279 - val_loss: 0.3119 - val_accuracy: 0.9091\n",
            "Epoch 6/100\n",
            "2/2 [==============================] - 0s 22ms/step - loss: 0.5903 - accuracy: 0.7558 - val_loss: 0.3039 - val_accuracy: 0.9091\n",
            "Epoch 7/100\n",
            "2/2 [==============================] - 0s 21ms/step - loss: 0.6290 - accuracy: 0.6628 - val_loss: 0.2994 - val_accuracy: 0.9091\n",
            "Epoch 8/100\n",
            "2/2 [==============================] - 0s 25ms/step - loss: 0.6016 - accuracy: 0.7326 - val_loss: 0.2974 - val_accuracy: 0.9091\n",
            "Epoch 9/100\n",
            "2/2 [==============================] - 0s 25ms/step - loss: 0.7223 - accuracy: 0.6512 - val_loss: 0.2976 - val_accuracy: 0.9091\n",
            "Epoch 10/100\n",
            "2/2 [==============================] - 0s 23ms/step - loss: 0.6953 - accuracy: 0.7442 - val_loss: 0.2990 - val_accuracy: 0.9091\n",
            "Epoch 11/100\n",
            "2/2 [==============================] - 0s 24ms/step - loss: 0.7022 - accuracy: 0.6512 - val_loss: 0.3009 - val_accuracy: 0.9545\n",
            "Epoch 12/100\n",
            "2/2 [==============================] - 0s 25ms/step - loss: 0.6513 - accuracy: 0.6977 - val_loss: 0.3027 - val_accuracy: 0.9545\n",
            "Epoch 13/100\n",
            "2/2 [==============================] - 0s 26ms/step - loss: 0.5381 - accuracy: 0.7674 - val_loss: 0.3033 - val_accuracy: 0.9545\n",
            "Epoch 14/100\n",
            "2/2 [==============================] - 0s 22ms/step - loss: 0.5796 - accuracy: 0.7209 - val_loss: 0.3025 - val_accuracy: 0.9545\n",
            "Epoch 15/100\n",
            "2/2 [==============================] - 0s 29ms/step - loss: 0.5149 - accuracy: 0.7326 - val_loss: 0.3007 - val_accuracy: 0.9545\n",
            "Epoch 16/100\n",
            "2/2 [==============================] - 0s 24ms/step - loss: 0.5688 - accuracy: 0.7674 - val_loss: 0.2983 - val_accuracy: 0.9545\n",
            "Epoch 17/100\n",
            "2/2 [==============================] - 0s 25ms/step - loss: 0.4235 - accuracy: 0.8140 - val_loss: 0.2952 - val_accuracy: 0.9545\n",
            "Epoch 18/100\n",
            "2/2 [==============================] - 0s 24ms/step - loss: 0.4905 - accuracy: 0.7907 - val_loss: 0.2926 - val_accuracy: 0.9545\n",
            "Epoch 19/100\n",
            "2/2 [==============================] - 0s 24ms/step - loss: 0.6815 - accuracy: 0.6047 - val_loss: 0.2897 - val_accuracy: 0.9545\n",
            "Epoch 20/100\n",
            "2/2 [==============================] - 0s 27ms/step - loss: 0.4727 - accuracy: 0.8023 - val_loss: 0.2859 - val_accuracy: 0.9545\n",
            "Epoch 21/100\n",
            "2/2 [==============================] - 0s 29ms/step - loss: 0.4923 - accuracy: 0.7674 - val_loss: 0.2820 - val_accuracy: 0.9545\n",
            "Epoch 22/100\n",
            "2/2 [==============================] - 0s 42ms/step - loss: 0.5590 - accuracy: 0.7442 - val_loss: 0.2784 - val_accuracy: 0.9545\n",
            "Epoch 23/100\n",
            "2/2 [==============================] - 0s 24ms/step - loss: 0.4804 - accuracy: 0.7558 - val_loss: 0.2746 - val_accuracy: 0.9545\n",
            "Epoch 24/100\n",
            "2/2 [==============================] - 0s 23ms/step - loss: 0.4800 - accuracy: 0.7326 - val_loss: 0.2707 - val_accuracy: 0.9545\n",
            "Epoch 25/100\n",
            "2/2 [==============================] - 0s 23ms/step - loss: 0.4163 - accuracy: 0.8023 - val_loss: 0.2667 - val_accuracy: 0.9545\n",
            "Epoch 26/100\n",
            "2/2 [==============================] - 0s 24ms/step - loss: 0.4193 - accuracy: 0.8023 - val_loss: 0.2629 - val_accuracy: 0.9545\n",
            "Epoch 27/100\n",
            "2/2 [==============================] - 0s 28ms/step - loss: 0.4907 - accuracy: 0.7326 - val_loss: 0.2596 - val_accuracy: 0.9545\n",
            "Epoch 28/100\n",
            "2/2 [==============================] - 0s 32ms/step - loss: 0.4191 - accuracy: 0.8023 - val_loss: 0.2564 - val_accuracy: 0.9545\n",
            "Epoch 29/100\n",
            "2/2 [==============================] - 0s 28ms/step - loss: 0.4790 - accuracy: 0.6860 - val_loss: 0.2538 - val_accuracy: 0.9545\n",
            "Epoch 30/100\n",
            "2/2 [==============================] - 0s 25ms/step - loss: 0.4884 - accuracy: 0.7326 - val_loss: 0.2507 - val_accuracy: 0.9545\n",
            "Epoch 31/100\n",
            "2/2 [==============================] - 0s 25ms/step - loss: 0.4705 - accuracy: 0.7442 - val_loss: 0.2478 - val_accuracy: 0.9545\n",
            "Epoch 32/100\n",
            "2/2 [==============================] - 0s 26ms/step - loss: 0.4895 - accuracy: 0.7907 - val_loss: 0.2452 - val_accuracy: 0.9545\n",
            "Epoch 33/100\n",
            "2/2 [==============================] - 0s 24ms/step - loss: 0.3849 - accuracy: 0.8372 - val_loss: 0.2436 - val_accuracy: 0.9545\n",
            "Epoch 34/100\n",
            "2/2 [==============================] - 0s 27ms/step - loss: 0.4262 - accuracy: 0.7791 - val_loss: 0.2419 - val_accuracy: 0.9545\n",
            "Epoch 35/100\n",
            "2/2 [==============================] - 0s 25ms/step - loss: 0.3592 - accuracy: 0.8372 - val_loss: 0.2397 - val_accuracy: 0.9545\n",
            "Epoch 36/100\n",
            "2/2 [==============================] - 0s 22ms/step - loss: 0.4498 - accuracy: 0.8023 - val_loss: 0.2374 - val_accuracy: 0.9545\n",
            "Epoch 37/100\n",
            "2/2 [==============================] - 0s 22ms/step - loss: 0.3665 - accuracy: 0.8605 - val_loss: 0.2350 - val_accuracy: 0.9545\n",
            "Epoch 38/100\n",
            "2/2 [==============================] - 0s 25ms/step - loss: 0.4602 - accuracy: 0.7326 - val_loss: 0.2327 - val_accuracy: 0.9545\n",
            "Epoch 39/100\n",
            "2/2 [==============================] - 0s 28ms/step - loss: 0.4702 - accuracy: 0.7558 - val_loss: 0.2307 - val_accuracy: 0.9545\n",
            "Epoch 40/100\n",
            "2/2 [==============================] - 0s 22ms/step - loss: 0.3033 - accuracy: 0.8372 - val_loss: 0.2287 - val_accuracy: 0.9545\n",
            "Epoch 41/100\n",
            "2/2 [==============================] - 0s 27ms/step - loss: 0.4251 - accuracy: 0.7791 - val_loss: 0.2269 - val_accuracy: 0.9545\n",
            "Epoch 42/100\n",
            "2/2 [==============================] - 0s 28ms/step - loss: 0.3626 - accuracy: 0.8256 - val_loss: 0.2251 - val_accuracy: 0.9545\n",
            "Epoch 43/100\n",
            "2/2 [==============================] - 0s 30ms/step - loss: 0.4029 - accuracy: 0.8023 - val_loss: 0.2236 - val_accuracy: 0.9545\n",
            "Epoch 44/100\n",
            "2/2 [==============================] - 0s 27ms/step - loss: 0.4923 - accuracy: 0.7674 - val_loss: 0.2230 - val_accuracy: 0.9545\n",
            "Epoch 45/100\n",
            "2/2 [==============================] - 0s 23ms/step - loss: 0.3971 - accuracy: 0.8256 - val_loss: 0.2221 - val_accuracy: 0.9545\n",
            "Epoch 46/100\n",
            "2/2 [==============================] - 0s 24ms/step - loss: 0.4311 - accuracy: 0.7907 - val_loss: 0.2202 - val_accuracy: 0.9545\n",
            "Epoch 47/100\n",
            "2/2 [==============================] - 0s 25ms/step - loss: 0.3888 - accuracy: 0.8023 - val_loss: 0.2190 - val_accuracy: 0.9545\n",
            "Epoch 48/100\n",
            "2/2 [==============================] - 0s 33ms/step - loss: 0.3804 - accuracy: 0.8372 - val_loss: 0.2180 - val_accuracy: 0.9545\n",
            "Epoch 49/100\n",
            "2/2 [==============================] - 0s 32ms/step - loss: 0.3359 - accuracy: 0.8372 - val_loss: 0.2165 - val_accuracy: 0.9545\n",
            "Epoch 50/100\n",
            "2/2 [==============================] - 0s 25ms/step - loss: 0.3055 - accuracy: 0.8721 - val_loss: 0.2149 - val_accuracy: 0.9545\n",
            "Epoch 51/100\n",
            "2/2 [==============================] - 0s 25ms/step - loss: 0.3561 - accuracy: 0.8488 - val_loss: 0.2133 - val_accuracy: 0.9545\n",
            "Epoch 52/100\n",
            "2/2 [==============================] - 0s 24ms/step - loss: 0.3644 - accuracy: 0.8023 - val_loss: 0.2119 - val_accuracy: 0.9545\n",
            "Epoch 53/100\n",
            "2/2 [==============================] - 0s 33ms/step - loss: 0.4280 - accuracy: 0.7442 - val_loss: 0.2111 - val_accuracy: 0.9545\n",
            "Epoch 54/100\n",
            "2/2 [==============================] - 0s 26ms/step - loss: 0.3524 - accuracy: 0.8256 - val_loss: 0.2102 - val_accuracy: 0.9545\n",
            "Epoch 55/100\n",
            "2/2 [==============================] - 0s 24ms/step - loss: 0.3722 - accuracy: 0.7907 - val_loss: 0.2092 - val_accuracy: 0.9545\n",
            "Epoch 56/100\n",
            "2/2 [==============================] - 0s 24ms/step - loss: 0.3286 - accuracy: 0.9070 - val_loss: 0.2085 - val_accuracy: 0.9545\n",
            "Epoch 57/100\n",
            "2/2 [==============================] - 0s 24ms/step - loss: 0.3629 - accuracy: 0.8256 - val_loss: 0.2078 - val_accuracy: 0.9545\n",
            "Epoch 58/100\n",
            "2/2 [==============================] - 0s 27ms/step - loss: 0.3649 - accuracy: 0.7791 - val_loss: 0.2064 - val_accuracy: 0.9545\n",
            "Epoch 59/100\n",
            "2/2 [==============================] - 0s 22ms/step - loss: 0.4401 - accuracy: 0.7907 - val_loss: 0.2050 - val_accuracy: 0.9545\n",
            "Epoch 60/100\n",
            "2/2 [==============================] - 0s 23ms/step - loss: 0.3582 - accuracy: 0.8256 - val_loss: 0.2035 - val_accuracy: 0.9545\n",
            "Epoch 61/100\n",
            "2/2 [==============================] - 0s 31ms/step - loss: 0.3495 - accuracy: 0.8605 - val_loss: 0.2020 - val_accuracy: 0.9545\n",
            "Epoch 62/100\n",
            "2/2 [==============================] - 0s 28ms/step - loss: 0.3527 - accuracy: 0.8372 - val_loss: 0.2005 - val_accuracy: 0.9545\n",
            "Epoch 63/100\n",
            "2/2 [==============================] - 0s 26ms/step - loss: 0.3769 - accuracy: 0.8256 - val_loss: 0.1989 - val_accuracy: 0.9545\n",
            "Epoch 64/100\n",
            "2/2 [==============================] - 0s 32ms/step - loss: 0.2869 - accuracy: 0.8605 - val_loss: 0.1974 - val_accuracy: 0.9545\n",
            "Epoch 65/100\n",
            "2/2 [==============================] - 0s 27ms/step - loss: 0.4572 - accuracy: 0.7907 - val_loss: 0.1961 - val_accuracy: 0.9545\n",
            "Epoch 66/100\n",
            "2/2 [==============================] - 0s 28ms/step - loss: 0.3597 - accuracy: 0.8256 - val_loss: 0.1947 - val_accuracy: 0.9545\n",
            "Epoch 67/100\n",
            "2/2 [==============================] - 0s 24ms/step - loss: 0.3233 - accuracy: 0.8721 - val_loss: 0.1935 - val_accuracy: 0.9545\n",
            "Epoch 68/100\n",
            "2/2 [==============================] - 0s 24ms/step - loss: 0.3696 - accuracy: 0.8256 - val_loss: 0.1920 - val_accuracy: 0.9545\n",
            "Epoch 69/100\n",
            "2/2 [==============================] - 0s 22ms/step - loss: 0.4349 - accuracy: 0.7558 - val_loss: 0.1908 - val_accuracy: 0.9545\n",
            "Epoch 70/100\n",
            "2/2 [==============================] - 0s 23ms/step - loss: 0.3286 - accuracy: 0.8372 - val_loss: 0.1902 - val_accuracy: 0.9545\n",
            "Epoch 71/100\n",
            "2/2 [==============================] - 0s 26ms/step - loss: 0.2473 - accuracy: 0.9186 - val_loss: 0.1896 - val_accuracy: 0.9545\n",
            "Epoch 72/100\n",
            "2/2 [==============================] - 0s 27ms/step - loss: 0.3491 - accuracy: 0.8023 - val_loss: 0.1890 - val_accuracy: 0.9545\n",
            "Epoch 73/100\n",
            "2/2 [==============================] - 0s 24ms/step - loss: 0.4544 - accuracy: 0.7326 - val_loss: 0.1882 - val_accuracy: 0.9545\n",
            "Epoch 74/100\n",
            "2/2 [==============================] - 0s 26ms/step - loss: 0.3345 - accuracy: 0.8372 - val_loss: 0.1873 - val_accuracy: 0.9545\n",
            "Epoch 75/100\n",
            "2/2 [==============================] - 0s 27ms/step - loss: 0.3103 - accuracy: 0.8953 - val_loss: 0.1864 - val_accuracy: 0.9545\n",
            "Epoch 76/100\n",
            "2/2 [==============================] - 0s 23ms/step - loss: 0.3629 - accuracy: 0.8256 - val_loss: 0.1855 - val_accuracy: 0.9545\n",
            "Epoch 77/100\n",
            "2/2 [==============================] - 0s 27ms/step - loss: 0.3082 - accuracy: 0.8605 - val_loss: 0.1849 - val_accuracy: 0.9545\n",
            "Epoch 78/100\n",
            "2/2 [==============================] - 0s 27ms/step - loss: 0.3231 - accuracy: 0.8488 - val_loss: 0.1844 - val_accuracy: 0.9545\n",
            "Epoch 79/100\n",
            "2/2 [==============================] - 0s 23ms/step - loss: 0.2676 - accuracy: 0.8721 - val_loss: 0.1841 - val_accuracy: 0.9545\n",
            "Epoch 80/100\n",
            "2/2 [==============================] - 0s 21ms/step - loss: 0.3470 - accuracy: 0.8605 - val_loss: 0.1838 - val_accuracy: 0.9545\n",
            "Epoch 81/100\n",
            "2/2 [==============================] - 0s 25ms/step - loss: 0.3512 - accuracy: 0.8837 - val_loss: 0.1835 - val_accuracy: 0.9545\n",
            "Epoch 82/100\n",
            "2/2 [==============================] - 0s 32ms/step - loss: 0.3237 - accuracy: 0.8721 - val_loss: 0.1831 - val_accuracy: 0.9545\n",
            "Epoch 83/100\n",
            "2/2 [==============================] - 0s 22ms/step - loss: 0.2832 - accuracy: 0.8372 - val_loss: 0.1827 - val_accuracy: 0.9545\n",
            "Epoch 84/100\n",
            "2/2 [==============================] - 0s 22ms/step - loss: 0.3438 - accuracy: 0.8488 - val_loss: 0.1821 - val_accuracy: 0.9545\n",
            "Epoch 85/100\n",
            "2/2 [==============================] - 0s 27ms/step - loss: 0.3549 - accuracy: 0.8256 - val_loss: 0.1815 - val_accuracy: 0.9545\n",
            "Epoch 86/100\n",
            "2/2 [==============================] - 0s 31ms/step - loss: 0.2984 - accuracy: 0.8837 - val_loss: 0.1806 - val_accuracy: 0.9545\n",
            "Epoch 87/100\n",
            "2/2 [==============================] - 0s 30ms/step - loss: 0.3543 - accuracy: 0.8372 - val_loss: 0.1796 - val_accuracy: 0.9545\n",
            "Epoch 88/100\n",
            "2/2 [==============================] - 0s 29ms/step - loss: 0.3556 - accuracy: 0.8488 - val_loss: 0.1788 - val_accuracy: 0.9545\n",
            "Epoch 89/100\n",
            "2/2 [==============================] - 0s 48ms/step - loss: 0.3413 - accuracy: 0.8837 - val_loss: 0.1779 - val_accuracy: 0.9545\n",
            "Epoch 90/100\n",
            "2/2 [==============================] - 0s 38ms/step - loss: 0.3307 - accuracy: 0.8605 - val_loss: 0.1770 - val_accuracy: 0.9545\n",
            "Epoch 91/100\n",
            "2/2 [==============================] - 0s 28ms/step - loss: 0.2897 - accuracy: 0.8372 - val_loss: 0.1760 - val_accuracy: 1.0000\n",
            "Epoch 92/100\n",
            "2/2 [==============================] - 0s 32ms/step - loss: 0.3273 - accuracy: 0.8721 - val_loss: 0.1752 - val_accuracy: 1.0000\n",
            "Epoch 93/100\n",
            "2/2 [==============================] - 0s 31ms/step - loss: 0.4107 - accuracy: 0.7558 - val_loss: 0.1741 - val_accuracy: 1.0000\n",
            "Epoch 94/100\n",
            "2/2 [==============================] - 0s 55ms/step - loss: 0.2938 - accuracy: 0.8837 - val_loss: 0.1731 - val_accuracy: 1.0000\n",
            "Epoch 95/100\n",
            "2/2 [==============================] - 0s 34ms/step - loss: 0.3067 - accuracy: 0.8488 - val_loss: 0.1721 - val_accuracy: 1.0000\n",
            "Epoch 96/100\n",
            "2/2 [==============================] - 0s 28ms/step - loss: 0.2910 - accuracy: 0.8953 - val_loss: 0.1710 - val_accuracy: 1.0000\n",
            "Epoch 97/100\n",
            "2/2 [==============================] - 0s 29ms/step - loss: 0.3462 - accuracy: 0.8023 - val_loss: 0.1702 - val_accuracy: 1.0000\n",
            "Epoch 98/100\n",
            "2/2 [==============================] - 0s 27ms/step - loss: 0.3534 - accuracy: 0.8372 - val_loss: 0.1696 - val_accuracy: 1.0000\n",
            "Epoch 99/100\n",
            "2/2 [==============================] - 0s 25ms/step - loss: 0.3163 - accuracy: 0.8605 - val_loss: 0.1690 - val_accuracy: 1.0000\n",
            "Epoch 100/100\n",
            "2/2 [==============================] - 0s 33ms/step - loss: 0.3043 - accuracy: 0.8721 - val_loss: 0.1683 - val_accuracy: 1.0000\n"
          ],
          "name": "stdout"
        },
        {
          "output_type": "execute_result",
          "data": {
            "text/plain": [
              "<tensorflow.python.keras.callbacks.History at 0x7f9bbca83710>"
            ]
          },
          "metadata": {
            "tags": []
          },
          "execution_count": 25
        }
      ]
    },
    {
      "cell_type": "code",
      "metadata": {
        "colab": {
          "base_uri": "https://localhost:8080/"
        },
        "id": "q5-heu4CAeQ6",
        "outputId": "13ac9c23-de0b-4068-b4bd-8df7dab4d766"
      },
      "source": [
        "score = model.evaluate(x_test, y_test, verbose=0)\n",
        "print(\"Test loss:\", score[0])\n",
        "print(\"Test accuracy:\", score[1])"
      ],
      "execution_count": 26,
      "outputs": [
        {
          "output_type": "stream",
          "text": [
            "Test loss: 0.19806331396102905\n",
            "Test accuracy: 0.9444444179534912\n"
          ],
          "name": "stdout"
        }
      ]
    }
  ]
}